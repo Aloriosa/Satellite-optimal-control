{
 "cells": [
  {
   "cell_type": "code",
   "execution_count": 1,
   "metadata": {},
   "outputs": [],
   "source": [
    "from math import sqrt,sin,cos\n",
    "from numpy import array\n",
    "from numpy import linspace,zeros,float64\n",
    "import numpy as np\n",
    "from tqdm import tqdm"
   ]
  },
  {
   "cell_type": "code",
   "execution_count": 2,
   "metadata": {},
   "outputs": [],
   "source": [
    "#pertrubation\n",
    "\n",
    "def st_X(x,y):\n",
    "    p00 =    -0.01311\n",
    "    p10 =    0.009422 \n",
    "    p01 =     -0.0276\n",
    "    p20 =      0.1476\n",
    "    p11 =    -0.04613\n",
    "    p02 =      0.2377\n",
    "    p30 =     -0.1103\n",
    "    p21 =     -0.2451\n",
    "    p12 =      0.1946\n",
    "    p03 =     -0.4666\n",
    "    p40 =     -0.1914\n",
    "    p31 =     0.06507\n",
    "    p22 =      0.4069\n",
    "    p13 =     -0.2008\n",
    "    p04 =      0.3505\n",
    "    p50 =     0.07237\n",
    "    p41 =     0.04237\n",
    "    p32 =    -0.01276\n",
    "    p23 =     -0.1806\n",
    "    p14 =     0.05798\n",
    "    p05 =    -0.09046\n",
    "    return p00 + p10*x + p01*y + p20*x**2 + p11*x*y + p02*y**2 + p30*x**3 + p21*x**2*y + p12*x*y**2 + p03*y**3 + p40*x**4 + p31*x**3*y + p22*x**2*y**2 + p13*x*y**3 + p04*y**4 + p50*x**5 + p41*x**4*y + p32*x**3*y**2 + p23*x**2*y**3 + p14*x*y**4 + p05*y**5\n",
    "\n",
    "def st_Y(x,y):\n",
    "    p00 =     0.04728\n",
    "    p10 =    -0.03281\n",
    "    p01 =     -0.4472\n",
    "    p20 =    -0.09362\n",
    "    p11 =       0.397\n",
    "    p02 =       1.532\n",
    "    p30 =    -0.02768\n",
    "    p21 =      0.4174\n",
    "    p12 =      -1.004\n",
    "    p03 =      -2.566\n",
    "    p40 =     0.06433\n",
    "    p31 =      0.1234\n",
    "    p22 =     -0.5461\n",
    "    p13 =      0.8732\n",
    "    p04 =       1.959\n",
    "    p50 =    0.001958\n",
    "    p41 =    -0.06374\n",
    "    p32 =    -0.09306  \n",
    "    p23 =      0.2182\n",
    "    p14 =     -0.2402\n",
    "    p05 =     -0.5396\n",
    "    return p00 + p10*x + p01*y + p20*x**2 + p11*x*y + p02*y**2 + p30*x**3 + p21*x**2*y + p12*x*y**2 + p03*y**3 + p40*x**4 + p31*x**3*y + p22*x**2*y**2 + p13*x*y**3 + p04*y**4 + p50*x**5 + p41*x**4*y + p32*x**3*y**2 + p23*x**2*y**3 + p14*x*y**4 + p05*y**5\n",
    "\n",
    "def st_E(x,y):\n",
    "    p00 =     0.02539\n",
    "    p10 =    -0.02509\n",
    "    p01 =     -0.2097\n",
    "    p20 =   -0.004579\n",
    "    p11 =      0.1277\n",
    "    p02 =      0.6871\n",
    "    p30 =     0.05808\n",
    "    p21 =    0.000537\n",
    "    p12 =      -0.263\n",
    "    p03 =      -1.038\n",
    "    p40 =   -0.003919\n",
    "    p31 =    -0.05393\n",
    "    p22 =     0.01495\n",
    "    p13 =       0.217\n",
    "    p04 =      0.7162\n",
    "    p50 =    -0.04783\n",
    "    p41 =   -0.008534\n",
    "    p32 =      0.0334\n",
    "    p23 =   -0.003816\n",
    "    p14 =    -0.06425\n",
    "    p05 =     -0.1833\n",
    "    return p00 + p10*x + p01*y + p20*x**2 + p11*x*y + p02*y**2 + p30*x**3 +p21*x**2*y + p12*x*y**2 + p03*y**3 + p40*x**4 + p31*x**3*y + p22*x**2*y**2 + p13*x*y**3 + p04*y**4 + p50*x**5 + p41*x**4*y + p32*x**3*y**2 + p23*x**2*y**3 + p14*x*y**4 + p05*y**5"
   ]
  },
  {
   "cell_type": "code",
   "execution_count": 3,
   "metadata": {},
   "outputs": [],
   "source": [
    "#simple trajectory\n",
    "def circle(t):\n",
    "    x = 0.4*sin(-0.02*t)\n",
    "    y = 0.4*cos(-0.02*t)+0.9\n",
    "    vx = 0.4*0.02*cos(-0.02*t)\n",
    "    vy = -0.4*0.02*sin(-0.02*t)\n",
    "    return [x, y, vx, vy]"
   ]
  },
  {
   "cell_type": "code",
   "execution_count": 4,
   "metadata": {},
   "outputs": [],
   "source": [
    "def Lyapunov_control(x, y, vx, vy, wanted_x, wanted_y, wanted_vx, wanted_vy, param):\n",
    "    k1, k2 = param\n",
    "    ax = -k1*(x - wanted_x)-k2*(vx + wanted_vx)\n",
    "    ay = -k1*(y - wanted_y)-k2*(vy + wanted_vy)\n",
    "    return [ax, ay]"
   ]
  },
  {
   "cell_type": "code",
   "execution_count": 5,
   "metadata": {},
   "outputs": [],
   "source": [
    "def motion(t , listState, listK, trajectory, control, control_param):\n",
    "    [x, y, vx, vy] = listState;\n",
    "\n",
    "    if (x < -0.82)and(vx < 0):\n",
    "        vx = 0\n",
    "    if (x > 0.82)and(vx > 0):\n",
    "        vx = 0    \n",
    "    if (y < 0)and(vy < 0):\n",
    "        vy = 0\n",
    "    if (y > 1.61)and(vy > 0):\n",
    "        vy = 0\n",
    "    \n",
    "    wanted_x, wanted_y, wanted_vx, wanted_vy = trajectory(t)\n",
    "    ax, ay = control(x, y, vx, vy, wanted_x, wanted_y, wanted_vx, wanted_vy, param = control_param)\n",
    "    \n",
    "    u = st_X(x,y)\n",
    "    v = st_Y(x,y)\n",
    "    \n",
    "    if ax**2 + ay**2 > 0.36538**2:\n",
    "        [ax, ay] = [0.36538*ax/sqrt(ax**2 + ay**2)+u, 0.36538*ay/sqrt(ax**2 + ay**2)+v]\n",
    "    else:\n",
    "        [ax, ay] = [ax+u, ay+v]\n",
    "        \n",
    "    return array([vx, vy, ax, ay])"
   ]
  },
  {
   "cell_type": "code",
   "execution_count": 6,
   "metadata": {},
   "outputs": [],
   "source": [
    "def ode4(ode,tspan,y0,param, trajectory, control):\n",
    "    [k, a] = param\n",
    "    [t0, tf] = tspan\n",
    "    h=(tf-t0)/k\n",
    "    T = linspace(t0,tf,num = k+1)\n",
    "    nrowsT = len(T)\n",
    "    nrowsy0 = len(y0)\n",
    "    Y = zeros((nrowsT,nrowsy0),dtype = np.float64)\n",
    "    \n",
    "    Y[0][:] = y0[:]\n",
    "    for i in range(1,nrowsT,1):\n",
    "        t  = T[i-1]\n",
    "        y  = Y[i-1][:]\n",
    "        h  = T[i] - T[i-1]\n",
    "        k1 = ode(t,y,a,trajectory,control, a)\n",
    "        k2 = ode(t+0.5*h,y+0.5*h*k1,a,trajectory,control, a)\n",
    "        k3 = ode(t+h/2.0,y+0.5*h*k2,a,trajectory,control, a)\n",
    "        k4 = ode(t+h,y+h*k3,a,trajectory,control, a)\n",
    "        yn = y+(1.0/6.0)*h*(k1+2.0*k2+2.0*k3+k4)\n",
    "        Y[i][:] = yn\n",
    "    return [T, Y]"
   ]
  },
  {
   "cell_type": "code",
   "execution_count": 7,
   "metadata": {},
   "outputs": [],
   "source": [
    "DotQuan = 1800\n",
    "Time = 900\n",
    "\n",
    "tm = [0, Time]\n",
    "y0 = array([-0.5, 1.2, 0.0, 0.0])\n",
    "listK = array([0.12, 0.68])\n",
    "\n",
    "[T, y_lyap] = ode4(motion,tm,y0,[DotQuan, listK],circle, Lyapunov_control)\n",
    "yid = np.array([circle(t) for t in np.linspace(0, Time, DotQuan)])"
   ]
  },
  {
   "cell_type": "code",
   "execution_count": 8,
   "metadata": {},
   "outputs": [
    {
     "data": {
      "image/png": "[encoded data removed]",
      "text/plain": [
       "<Figure size 720x720 with 1 Axes>"
      ]
     },
     "metadata": {
      "needs_background": "light"
     },
     "output_type": "display_data"
    }
   ],
   "source": [
    "import matplotlib.pyplot as plt\n",
    "%matplotlib inline\n",
    "\n",
    "plt.figure(figsize = (10, 10))\n",
    "plt.plot(y_lyap[:,0], y_lyap[:,1])\n",
    "plt.plot(yid[:,0], yid[:,1])\n",
    "plt.xlim((-0.82, 0.82))\n",
    "plt.ylim((0, 1.61))\n",
    "plt.show()"
   ]
  },
  {
   "cell_type": "markdown",
   "metadata": {},
   "source": [
    "# Pretraining"
   ]
  },
  {
   "cell_type": "code",
   "execution_count": 9,
   "metadata": {},
   "outputs": [],
   "source": [
    "import torch\n",
    "import torch.nn as nn\n",
    "import torch.nn.functional as F"
   ]
  },
  {
   "cell_type": "code",
   "execution_count": 10,
   "metadata": {},
   "outputs": [
    {
     "name": "stdout",
     "output_type": "stream",
     "text": [
      "Using GPU\n"
     ]
    }
   ],
   "source": [
    "if torch.cuda.is_available():\n",
    "    use_gpu = True\n",
    "    print(\"Using GPU\")\n",
    "else:\n",
    "    use_gpu = False\n",
    "FloatTensor = torch.cuda.FloatTensor if use_gpu else torch.FloatTensor\n",
    "LongTensor = torch.cuda.LongTensor if use_gpu else torch.LongTensor\n",
    "ByteTensor = torch.cuda.ByteTensor if use_gpu else torch.ByteTensor\n",
    "Tensor = FloatTensor"
   ]
  },
  {
   "cell_type": "code",
   "execution_count": 11,
   "metadata": {},
   "outputs": [],
   "source": [
    "model = nn.Sequential(\n",
    "        nn.Linear(8, 16),\n",
    "        nn.Sigmoid(),\n",
    "        nn.Linear(16, 16),\n",
    "        nn.Sigmoid(),\n",
    "        nn.Linear(16, 2),\n",
    ")\n",
    "\n",
    "# model = nn.Linear(8, 2)\n",
    "if use_gpu:\n",
    "    model.cuda()"
   ]
  },
  {
   "cell_type": "code",
   "execution_count": 12,
   "metadata": {},
   "outputs": [],
   "source": [
    "def loss_pretrain(target, predicted):\n",
    "    return ((target - predicted)**2).sum()"
   ]
  },
  {
   "cell_type": "code",
   "execution_count": 13,
   "metadata": {},
   "outputs": [],
   "source": [
    "DotQuan = 1800\n",
    "Time = 900\n",
    "\n",
    "tm = [0, Time]\n",
    "y0 = array([-0.5, 1.2, 0.0, 0.0])\n",
    "listK = array([0.12, 0.68])\n",
    "\n",
    "def get_batches_pretrain(trajectory, batch_size, batch_num):\n",
    "    for n_batch in range(batch_num):\n",
    "        time = np.random.rand(batch_size)*Time\n",
    "        wanted = np.array([trajectory(t) for t in time])\n",
    "        real = np.random.rand(batch_size, 4)*1.6 - np.array([0.8, 0, 0.8, 0.8])\n",
    "        inp = np.hstack((real, wanted))\n",
    "        out = np.array([Lyapunov_control(*state, listK) for state in inp])\n",
    "\n",
    "        if use_gpu:\n",
    "            inp, out = Tensor(inp).cuda(), Tensor(out).cuda()\n",
    "        else:\n",
    "            inp, out = Tensor(inp), Tensor(out)\n",
    "        yield inp, out"
   ]
  },
  {
   "cell_type": "code",
   "execution_count": 14,
   "metadata": {},
   "outputs": [],
   "source": [
    "n_epochs = 60\n",
    "batch_size = 32\n",
    "batch_num = 1\n",
    "opt = torch.optim.Adam(model.parameters(), 1e-4)\n",
    "\n",
    "def pretraining(model, optimizer, n_epochs = n_epochs, batch_size = batch_size, batch_num = batch_num):\n",
    "    model.train(True)\n",
    "    for epoch in tqdm(range(n_epochs)):\n",
    "        for x, y in get_batches_pretrain(circle, batch_size, batch_num):\n",
    "            opt.zero_grad()\n",
    "            y_pred = model(x)\n",
    "            loss = loss_pretrain(y, y_pred)\n",
    "            loss.backward()\n",
    "            optimizer.step()\n",
    "    return model "
   ]
  },
  {
   "cell_type": "code",
   "execution_count": 16,
   "metadata": {},
   "outputs": [
    {
     "name": "stderr",
     "output_type": "stream",
     "text": [
      "100%|██████████| 10000/10000 [00:27<00:00, 364.55it/s]\n"
     ]
    }
   ],
   "source": [
    "m = pretraining(model, opt, 10000, 256, 1)"
   ]
  },
  {
   "cell_type": "code",
   "execution_count": 30,
   "metadata": {},
   "outputs": [],
   "source": [
    "def control_kek(*state, param = None):\n",
    "    state_t = Tensor(np.array(state[:8])).cuda()\n",
    "    res = m(state_t)\n",
    "    res = res.cpu().data.numpy()\n",
    "    if param is not None:\n",
    "        res += np.random.normal(scale = param, size = 2)\n",
    "    return res"
   ]
  },
  {
   "cell_type": "code",
   "execution_count": 223,
   "metadata": {
    "collapsed": true
   },
   "outputs": [
    {
     "name": "stdout",
     "output_type": "stream",
     "text": [
      "0.weight tensor([[-0.1576, -0.1159,  0.3528,  ...,  0.1328,  0.0202,  0.2204],\n",
      "        [-0.1324,  0.2135, -0.2337,  ..., -0.0605, -0.1919, -0.1961],\n",
      "        [ 0.1491,  0.1215, -0.1739,  ...,  0.0412,  0.2921,  0.2743],\n",
      "        ...,\n",
      "        [ 0.2671,  0.1840, -0.3439,  ..., -0.3466,  0.1451, -0.2888],\n",
      "        [-0.0726,  0.0368,  0.0370,  ...,  0.2384,  0.2044, -0.0890],\n",
      "        [ 0.1279,  0.3489,  0.2063,  ..., -0.1916,  0.2977,  0.2198]],\n",
      "       device='cuda:0')\n",
      "0.bias tensor([ 0.0809, -0.2488,  0.1001, -0.0690, -0.1387, -0.3311, -0.3290, -0.1451,\n",
      "         0.3351,  0.1223,  0.1923,  0.2968, -0.0310,  0.3496,  0.3302, -0.1985,\n",
      "         0.2900,  0.1857,  0.0063, -0.0596,  0.0484, -0.0911,  0.3224, -0.0342,\n",
      "         0.2230,  0.1153,  0.0616, -0.0264, -0.0795,  0.1006,  0.2069,  0.0888,\n",
      "        -0.0148,  0.0417,  0.0807,  0.0794,  0.2958,  0.3249, -0.0820, -0.3367,\n",
      "         0.2435, -0.1120, -0.2889,  0.0013,  0.0151,  0.0979, -0.1366, -0.1078,\n",
      "         0.0757,  0.0740, -0.3317, -0.2748,  0.1521,  0.2146,  0.2429,  0.2507,\n",
      "         0.2404,  0.0779,  0.3237,  0.2861, -0.2052,  0.0588,  0.0178, -0.2753,\n",
      "         0.3531, -0.0340, -0.3136,  0.0992,  0.1147, -0.1008, -0.0681, -0.0185,\n",
      "        -0.1355, -0.1142,  0.2641, -0.2997,  0.2522,  0.2807,  0.0163, -0.0561,\n",
      "        -0.3053,  0.0477,  0.1133, -0.2398, -0.3038, -0.0663, -0.1141, -0.3004,\n",
      "         0.3503, -0.0215, -0.1688, -0.3163,  0.1707, -0.2945, -0.0458,  0.1961,\n",
      "         0.1197, -0.2776,  0.0425, -0.1126, -0.3532, -0.2755,  0.0764, -0.2204,\n",
      "        -0.0864,  0.1959,  0.2477,  0.1664, -0.3004, -0.0269,  0.3080,  0.1260,\n",
      "        -0.3141, -0.1273, -0.1236,  0.0018, -0.0337, -0.1408,  0.0262,  0.0726,\n",
      "         0.3190,  0.2494, -0.0850, -0.0476,  0.2959, -0.0206, -0.0747,  0.1967],\n",
      "       device='cuda:0')\n",
      "2.weight tensor([[ 0.0734,  0.0278,  0.0836,  ..., -0.0577,  0.0638,  0.0855],\n",
      "        [-0.0553,  0.0801, -0.0072,  ..., -0.0783, -0.0847, -0.0817],\n",
      "        [ 0.0683, -0.0199,  0.0308,  ..., -0.0731,  0.0072, -0.0542],\n",
      "        ...,\n",
      "        [ 0.0515, -0.0357, -0.0658,  ..., -0.0551,  0.0250, -0.0373],\n",
      "        [-0.0688,  0.0654,  0.0538,  ..., -0.0345, -0.0381,  0.0381],\n",
      "        [-0.0539,  0.0149,  0.0627,  ..., -0.0007,  0.0793,  0.0510]],\n",
      "       device='cuda:0')\n",
      "2.bias tensor([ 0.0408,  0.0694,  0.0178,  0.0672, -0.0235,  0.0648,  0.0257,  0.0316,\n",
      "        -0.0375, -0.0720, -0.0221, -0.0668, -0.0587,  0.0706, -0.0244, -0.0591,\n",
      "        -0.0001,  0.0430, -0.0504,  0.0487,  0.0053, -0.0157,  0.0569,  0.0671,\n",
      "         0.0813,  0.0453,  0.0736,  0.0481,  0.0649,  0.0389,  0.0254,  0.0128,\n",
      "         0.0537, -0.0773,  0.0342,  0.0147, -0.0698,  0.0539,  0.0137,  0.0797,\n",
      "        -0.0619,  0.0229,  0.0642,  0.0880, -0.0581,  0.0691, -0.0776, -0.0179,\n",
      "        -0.0542, -0.0434,  0.0073,  0.0380,  0.0828,  0.0639,  0.0723, -0.0104,\n",
      "         0.0231,  0.0549, -0.0761,  0.0113,  0.0028,  0.0147,  0.0085,  0.0569,\n",
      "        -0.0167,  0.0260,  0.0835, -0.0707,  0.0690, -0.0312,  0.0750, -0.0803,\n",
      "        -0.0519,  0.0019, -0.0556,  0.0170,  0.0500, -0.0438,  0.0301, -0.0678,\n",
      "        -0.0015,  0.0235, -0.0682, -0.0181, -0.0216,  0.0139, -0.0454,  0.0550,\n",
      "        -0.0099,  0.0203,  0.0214, -0.0467, -0.0285,  0.0404, -0.0681,  0.0334,\n",
      "         0.0712,  0.0723, -0.0724,  0.0098, -0.0428, -0.0844, -0.0334, -0.0324,\n",
      "        -0.0695,  0.0288, -0.0765, -0.0021,  0.0314, -0.0266,  0.0451, -0.0525,\n",
      "         0.0363, -0.0549, -0.0607,  0.0521, -0.0658,  0.0763, -0.0696, -0.0740,\n",
      "        -0.0781, -0.0764, -0.0252, -0.0784, -0.0124, -0.0620, -0.0762,  0.0648],\n",
      "       device='cuda:0')\n",
      "4.weight tensor([[-0.0398, -0.0278,  0.0198,  ..., -0.0358,  0.0476, -0.0039],\n",
      "        [-0.0078, -0.0011, -0.0330,  ...,  0.0665,  0.0094,  0.0201],\n",
      "        [-0.0361, -0.0012, -0.0383,  ...,  0.0712,  0.0573,  0.0824],\n",
      "        ...,\n",
      "        [-0.0092,  0.0306, -0.0376,  ..., -0.0733,  0.0473, -0.0450],\n",
      "        [-0.0542,  0.0509, -0.0701,  ..., -0.0276,  0.0211,  0.0265],\n",
      "        [-0.0247,  0.0618, -0.0376,  ...,  0.0041, -0.0840, -0.0809]],\n",
      "       device='cuda:0')\n",
      "4.bias tensor([ 0.0577, -0.0429,  0.0094, -0.0382, -0.0329,  0.0616, -0.0399, -0.0291,\n",
      "         0.0869, -0.0122,  0.0551,  0.0171, -0.0681, -0.0656, -0.0641,  0.0333,\n",
      "        -0.0806,  0.0301, -0.0636, -0.0645, -0.0057,  0.0352,  0.0705,  0.0352,\n",
      "        -0.0612,  0.0087, -0.0546, -0.0735, -0.0631, -0.0873, -0.0813,  0.0778,\n",
      "         0.0056,  0.0845,  0.0043,  0.0405, -0.0186,  0.0873,  0.0470, -0.0818,\n",
      "         0.0834,  0.0530, -0.0639, -0.0300,  0.0213,  0.0020,  0.0658,  0.0470,\n",
      "        -0.0753,  0.0534,  0.0594,  0.0734, -0.0122, -0.0453,  0.0673, -0.0744,\n",
      "         0.0465,  0.0703, -0.0418, -0.0442,  0.0705,  0.0838, -0.0114, -0.0474],\n",
      "       device='cuda:0')\n",
      "6.weight tensor([[ 6.7035e-02,  2.0236e-02,  2.9638e-02, -1.0336e-01, -4.2054e-02,\n",
      "          1.7287e-02,  1.1516e-01,  3.7176e-02,  8.0244e-02, -1.1857e-01,\n",
      "          1.0481e-01,  4.7422e-02,  7.0760e-02,  3.6792e-02, -8.5038e-02,\n",
      "         -1.8823e-02,  8.8180e-02,  5.5664e-02,  2.9725e-02, -1.0753e-01,\n",
      "         -1.3733e-02,  5.2420e-02,  3.6904e-02, -5.7769e-02, -1.1417e-01,\n",
      "          2.1826e-02, -9.7339e-02, -9.5278e-02,  6.0656e-02, -3.5403e-02,\n",
      "         -9.5778e-02,  2.7747e-02, -5.3480e-02, -6.4615e-02, -4.9990e-02,\n",
      "         -5.8772e-02, -8.2746e-02,  3.5347e-03,  9.6271e-02, -1.6511e-02,\n",
      "          7.2990e-02, -1.1766e-01, -7.7169e-02, -1.7239e-02,  3.3083e-02,\n",
      "         -9.8580e-02,  1.1834e-01, -1.5909e-02,  9.4504e-02, -8.0086e-03,\n",
      "         -6.9869e-02, -6.3492e-02, -1.0334e-01,  9.5950e-02, -3.0793e-02,\n",
      "         -1.0578e-01,  3.6867e-02, -3.1364e-02,  1.0654e-01, -3.6378e-02,\n",
      "          1.0856e-01,  8.8626e-02, -9.0396e-02, -7.6409e-02],\n",
      "        [ 3.3910e-02,  7.6678e-02, -1.1671e-01, -7.4616e-02, -5.2968e-02,\n",
      "          3.8133e-02,  1.9717e-02, -1.1140e-01, -4.7218e-02,  8.3177e-02,\n",
      "          6.1639e-02, -1.5601e-02, -6.4860e-02, -3.6854e-02, -1.6160e-02,\n",
      "         -3.7380e-03, -1.5646e-03, -5.3891e-02,  8.2497e-03, -1.1402e-02,\n",
      "         -1.2543e-02,  1.0367e-01,  1.1738e-01,  6.9342e-02, -3.7362e-02,\n",
      "         -4.0593e-02, -6.9809e-02,  4.3895e-02, -8.7242e-02, -2.9554e-02,\n",
      "         -7.6205e-02, -3.3542e-02,  9.3102e-02,  8.4922e-05,  1.0988e-01,\n",
      "          7.4721e-02, -2.5068e-02,  3.7796e-02,  2.8171e-02,  2.0963e-02,\n",
      "          7.4072e-02,  2.3051e-02, -4.4489e-02,  6.0769e-02,  7.9249e-02,\n",
      "         -3.9739e-02,  5.7402e-02,  4.7617e-02, -5.6516e-02, -3.7097e-02,\n",
      "          1.0288e-01, -2.4398e-02,  9.4136e-02, -9.1395e-02,  3.4693e-02,\n",
      "          8.0275e-03,  5.6698e-02, -5.3799e-02,  1.1242e-01,  1.2239e-01,\n",
      "         -9.8602e-02, -1.1616e-02,  3.5345e-02,  7.3503e-02]], device='cuda:0')\n",
      "6.bias tensor([0.1164, 0.0738], device='cuda:0')\n"
     ]
    }
   ],
   "source": [
    "for name, param in m.named_parameters():\n",
    "    if param.requires_grad:\n",
    "        print(name, param.data)"
   ]
  },
  {
   "cell_type": "code",
   "execution_count": 18,
   "metadata": {},
   "outputs": [],
   "source": [
    "[T, y] = ode4(motion,tm,y0,[DotQuan, listK],circle, control_kek);"
   ]
  },
  {
   "cell_type": "code",
   "execution_count": 19,
   "metadata": {},
   "outputs": [
    {
     "data": {
      "image/png": "[encoded data removed]",
      "text/plain": [
       "<Figure size 720x720 with 1 Axes>"
      ]
     },
     "metadata": {
      "needs_background": "light"
     },
     "output_type": "display_data"
    }
   ],
   "source": [
    "plt.figure(figsize = (10, 10))\n",
    "plt.plot(y[:,0], y[:,1])\n",
    "plt.plot(y_lyap[:,0], y_lyap[:,1], color = \"black\")\n",
    "plt.xlim((-0.82, 0.82))\n",
    "plt.ylim((0, 1.61))\n",
    "plt.show()"
   ]
  },
  {
   "cell_type": "markdown",
   "metadata": {},
   "source": [
    "# Training"
   ]
  },
  {
   "cell_type": "code",
   "execution_count": 35,
   "metadata": {},
   "outputs": [],
   "source": [
    "steps = 40\n",
    "DotQuan = 1800\n",
    "Time = 900\n",
    "h = Time / DotQuan\n",
    "\n",
    "tm = [0, Time]\n",
    "y0 = array([-0.5, 1.2, 0.0, 0.0])\n",
    "listK = array([0.12, 0.68])\n",
    "\n",
    "def gen_session(model, trajectory, control, length, disp, y0 = y0):\n",
    "    traj_disc = np.array([trajectory(t) for t in np.arange(0, Time + 1e-12, h)] )  \n",
    "    path = np.zeros((length, 4))\n",
    "    path[0] = y0\n",
    "    for i in range(1, length + 1):\n",
    "        arg = np.hstack((path[i-1], traj_disc[i]))\n",
    "#         print(control(arg))\n",
    "#         [ax, ay] = control(arg) + np.random.normal(scale = disp, size = 2)\n",
    "        _, state = ode4(motion, tspan = [(i-1)*h, i*h], y0 = path[i-1], param = disp, trajectory = trajectory, control = control)\n",
    "        path[i] = state\n",
    "    loss = np.linalg.norm(path, traj_disc)\n",
    "    return path, loss"
   ]
  },
  {
   "cell_type": "code",
   "execution_count": 36,
   "metadata": {},
   "outputs": [
    {
     "ename": "TypeError",
     "evalue": "cannot unpack non-iterable float object",
     "output_type": "error",
     "traceback": [
      "\u001b[0;31m---------------------------------------------------------------------------\u001b[0m",
      "\u001b[0;31mTypeError\u001b[0m                                 Traceback (most recent call last)",
      "\u001b[0;32m<ipython-input-36-424e5df4fa2d>\u001b[0m in \u001b[0;36m<module>\u001b[0;34m\u001b[0m\n\u001b[0;32m----> 1\u001b[0;31m \u001b[0mgen_session\u001b[0m\u001b[0;34m(\u001b[0m\u001b[0mm\u001b[0m\u001b[0;34m,\u001b[0m \u001b[0mcircle\u001b[0m\u001b[0;34m,\u001b[0m \u001b[0mcontrol_kek\u001b[0m\u001b[0;34m,\u001b[0m \u001b[0;36m10\u001b[0m\u001b[0;34m,\u001b[0m \u001b[0;36m0.01\u001b[0m\u001b[0;34m,\u001b[0m \u001b[0my0\u001b[0m\u001b[0;34m)\u001b[0m\u001b[0;34m\u001b[0m\u001b[0;34m\u001b[0m\u001b[0m\n\u001b[0m",
      "\u001b[0;32m<ipython-input-35-444ce0e35770>\u001b[0m in \u001b[0;36mgen_session\u001b[0;34m(model, trajectory, control, length, disp, y0)\u001b[0m\n\u001b[1;32m     16\u001b[0m \u001b[0;31m#         print(control(arg))\u001b[0m\u001b[0;34m\u001b[0m\u001b[0;34m\u001b[0m\u001b[0;34m\u001b[0m\u001b[0m\n\u001b[1;32m     17\u001b[0m \u001b[0;31m#         [ax, ay] = control(arg) + np.random.normal(scale = disp, size = 2)\u001b[0m\u001b[0;34m\u001b[0m\u001b[0;34m\u001b[0m\u001b[0;34m\u001b[0m\u001b[0m\n\u001b[0;32m---> 18\u001b[0;31m         \u001b[0m_\u001b[0m\u001b[0;34m,\u001b[0m \u001b[0mstate\u001b[0m \u001b[0;34m=\u001b[0m \u001b[0mode4\u001b[0m\u001b[0;34m(\u001b[0m\u001b[0mmotion\u001b[0m\u001b[0;34m,\u001b[0m \u001b[0mtspan\u001b[0m \u001b[0;34m=\u001b[0m \u001b[0;34m[\u001b[0m\u001b[0;34m(\u001b[0m\u001b[0mi\u001b[0m\u001b[0;34m-\u001b[0m\u001b[0;36m1\u001b[0m\u001b[0;34m)\u001b[0m\u001b[0;34m*\u001b[0m\u001b[0mh\u001b[0m\u001b[0;34m,\u001b[0m \u001b[0mi\u001b[0m\u001b[0;34m*\u001b[0m\u001b[0mh\u001b[0m\u001b[0;34m]\u001b[0m\u001b[0;34m,\u001b[0m \u001b[0my0\u001b[0m \u001b[0;34m=\u001b[0m \u001b[0mpath\u001b[0m\u001b[0;34m[\u001b[0m\u001b[0mi\u001b[0m\u001b[0;34m-\u001b[0m\u001b[0;36m1\u001b[0m\u001b[0;34m]\u001b[0m\u001b[0;34m,\u001b[0m \u001b[0mparam\u001b[0m \u001b[0;34m=\u001b[0m \u001b[0mdisp\u001b[0m\u001b[0;34m,\u001b[0m \u001b[0mtrajectory\u001b[0m \u001b[0;34m=\u001b[0m \u001b[0mtrajectory\u001b[0m\u001b[0;34m,\u001b[0m \u001b[0mcontrol\u001b[0m \u001b[0;34m=\u001b[0m \u001b[0mcontrol\u001b[0m\u001b[0;34m)\u001b[0m\u001b[0;34m\u001b[0m\u001b[0;34m\u001b[0m\u001b[0m\n\u001b[0m\u001b[1;32m     19\u001b[0m         \u001b[0mpath\u001b[0m\u001b[0;34m[\u001b[0m\u001b[0mi\u001b[0m\u001b[0;34m]\u001b[0m \u001b[0;34m=\u001b[0m \u001b[0mstate\u001b[0m\u001b[0;34m\u001b[0m\u001b[0;34m\u001b[0m\u001b[0m\n\u001b[1;32m     20\u001b[0m     \u001b[0mloss\u001b[0m \u001b[0;34m=\u001b[0m \u001b[0mnp\u001b[0m\u001b[0;34m.\u001b[0m\u001b[0mlinalg\u001b[0m\u001b[0;34m.\u001b[0m\u001b[0mnorm\u001b[0m\u001b[0;34m(\u001b[0m\u001b[0mpath\u001b[0m\u001b[0;34m,\u001b[0m \u001b[0mtraj_disc\u001b[0m\u001b[0;34m)\u001b[0m\u001b[0;34m\u001b[0m\u001b[0;34m\u001b[0m\u001b[0m\n",
      "\u001b[0;32m<ipython-input-6-453247c15553>\u001b[0m in \u001b[0;36mode4\u001b[0;34m(ode, tspan, y0, param, trajectory, control)\u001b[0m\n\u001b[1;32m      1\u001b[0m \u001b[0;32mdef\u001b[0m \u001b[0mode4\u001b[0m\u001b[0;34m(\u001b[0m\u001b[0mode\u001b[0m\u001b[0;34m,\u001b[0m\u001b[0mtspan\u001b[0m\u001b[0;34m,\u001b[0m\u001b[0my0\u001b[0m\u001b[0;34m,\u001b[0m\u001b[0mparam\u001b[0m\u001b[0;34m,\u001b[0m \u001b[0mtrajectory\u001b[0m\u001b[0;34m,\u001b[0m \u001b[0mcontrol\u001b[0m\u001b[0;34m)\u001b[0m\u001b[0;34m:\u001b[0m\u001b[0;34m\u001b[0m\u001b[0;34m\u001b[0m\u001b[0m\n\u001b[0;32m----> 2\u001b[0;31m     \u001b[0;34m[\u001b[0m\u001b[0mk\u001b[0m\u001b[0;34m,\u001b[0m \u001b[0ma\u001b[0m\u001b[0;34m]\u001b[0m \u001b[0;34m=\u001b[0m \u001b[0mparam\u001b[0m\u001b[0;34m\u001b[0m\u001b[0;34m\u001b[0m\u001b[0m\n\u001b[0m\u001b[1;32m      3\u001b[0m     \u001b[0;34m[\u001b[0m\u001b[0mt0\u001b[0m\u001b[0;34m,\u001b[0m \u001b[0mtf\u001b[0m\u001b[0;34m]\u001b[0m \u001b[0;34m=\u001b[0m \u001b[0mtspan\u001b[0m\u001b[0;34m\u001b[0m\u001b[0;34m\u001b[0m\u001b[0m\n\u001b[1;32m      4\u001b[0m     \u001b[0mh\u001b[0m\u001b[0;34m=\u001b[0m\u001b[0;34m(\u001b[0m\u001b[0mtf\u001b[0m\u001b[0;34m-\u001b[0m\u001b[0mt0\u001b[0m\u001b[0;34m)\u001b[0m\u001b[0;34m/\u001b[0m\u001b[0mk\u001b[0m\u001b[0;34m\u001b[0m\u001b[0;34m\u001b[0m\u001b[0m\n\u001b[1;32m      5\u001b[0m     \u001b[0mT\u001b[0m \u001b[0;34m=\u001b[0m \u001b[0mlinspace\u001b[0m\u001b[0;34m(\u001b[0m\u001b[0mt0\u001b[0m\u001b[0;34m,\u001b[0m\u001b[0mtf\u001b[0m\u001b[0;34m,\u001b[0m\u001b[0mnum\u001b[0m \u001b[0;34m=\u001b[0m \u001b[0mk\u001b[0m\u001b[0;34m+\u001b[0m\u001b[0;36m1\u001b[0m\u001b[0;34m)\u001b[0m\u001b[0;34m\u001b[0m\u001b[0;34m\u001b[0m\u001b[0m\n",
      "\u001b[0;31mTypeError\u001b[0m: cannot unpack non-iterable float object"
     ]
    }
   ],
   "source": [
    "gen_session(m, circle, control_kek, 10, 0.01, y0)"
   ]
  },
  {
   "cell_type": "code",
   "execution_count": null,
   "metadata": {},
   "outputs": [],
   "source": []
  }
 ],
 "metadata": {
  "kernelspec": {
   "display_name": "Python 3",
   "language": "python",
   "name": "python3"
  },
  "language_info": {
   "codemirror_mode": {
    "name": "ipython",
    "version": 3
   },
   "file_extension": ".py",
   "mimetype": "text/x-python",
   "name": "python",
   "nbconvert_exporter": "python",
   "pygments_lexer": "ipython3",
   "version": "3.7.3"
  }
 },
 "nbformat": 4,
 "nbformat_minor": 2
}
